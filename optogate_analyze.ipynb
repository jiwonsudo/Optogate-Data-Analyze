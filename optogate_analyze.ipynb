{
  "nbformat": 4,
  "nbformat_minor": 0,
  "metadata": {
    "colab": {
      "provenance": []
    },
    "kernelspec": {
      "name": "python3",
      "display_name": "Python 3"
    },
    "language_info": {
      "name": "python"
    }
  },
  "cells": [
    {
      "cell_type": "code",
      "execution_count": 7,
      "metadata": {
        "colab": {
          "base_uri": "https://localhost:8080/"
        },
        "id": "EsnPLP6j_Nzw",
        "outputId": "1979088d-5113-4bc1-d023-d7f8da15fa63"
      },
      "outputs": [
        {
          "output_type": "stream",
          "name": "stdout",
          "text": [
            "Requirement already satisfied: pandas in /usr/local/lib/python3.10/dist-packages (1.5.3)\n",
            "Requirement already satisfied: python-dateutil>=2.8.1 in /usr/local/lib/python3.10/dist-packages (from pandas) (2.8.2)\n",
            "Requirement already satisfied: pytz>=2020.1 in /usr/local/lib/python3.10/dist-packages (from pandas) (2023.4)\n",
            "Requirement already satisfied: numpy>=1.21.0 in /usr/local/lib/python3.10/dist-packages (from pandas) (1.25.2)\n",
            "Requirement already satisfied: six>=1.5 in /usr/local/lib/python3.10/dist-packages (from python-dateutil>=2.8.1->pandas) (1.16.0)\n"
          ]
        }
      ],
      "source": [
        "!pip install pandas"
      ]
    },
    {
      "cell_type": "code",
      "source": [
        "import pandas as pd"
      ],
      "metadata": {
        "id": "EqitjeQg_ixZ"
      },
      "execution_count": 2,
      "outputs": []
    },
    {
      "cell_type": "code",
      "source": [
        "data = pd.read_csv('data.csv')  # 데이터 읽어오기\n",
        "data.head()  # 위 5개행만 테스트 출력"
      ],
      "metadata": {
        "colab": {
          "base_uri": "https://localhost:8080/",
          "height": 389
        },
        "id": "IfKPz94p_vyt",
        "outputId": "6bada5da-3f48-4ae6-efd9-5394641f9fa5"
      },
      "execution_count": 6,
      "outputs": [
        {
          "output_type": "execute_result",
          "data": {
            "text/plain": [
              "   Last name Name Last & first names  BirthDate Gender  Weight  Height  Foot  \\\n",
              "0          4  KSJ            004 KSJ        NaN            NaN     NaN   NaN   \n",
              "1          4  KSJ            004 KSJ        NaN            NaN     NaN   NaN   \n",
              "2          4  KSJ            004 KSJ        NaN            NaN     NaN   NaN   \n",
              "3          4  KSJ            004 KSJ        NaN            NaN     NaN   NaN   \n",
              "4          4  KSJ            004 KSJ        NaN            NaN     NaN   NaN   \n",
              "\n",
              "   Pathology  Grade  ...  BodySwayAP  BodySwayML  Norm. Step  Treadm. Speed  \\\n",
              "0        NaN    NaN  ...         NaN         NaN         NaN            NaN   \n",
              "1        NaN    NaN  ...         NaN         NaN         NaN            NaN   \n",
              "2        NaN    NaN  ...         NaN         NaN         NaN            NaN   \n",
              "3        NaN    NaN  ...         NaN         NaN         NaN            NaN   \n",
              "4        NaN    NaN  ...         NaN         NaN         NaN            NaN   \n",
              "\n",
              "   Treadm. Grade  Flight time%  Contact time%  RSI  Duty factor  Notes  \n",
              "0            NaN           NaN            NaN  NaN          NaN    NaN  \n",
              "1            NaN           NaN           67.6  NaN          NaN    NaN  \n",
              "2            NaN           NaN           63.2  NaN          NaN    NaN  \n",
              "3            NaN           NaN           63.2  NaN          NaN    NaN  \n",
              "4            NaN           NaN           60.2  NaN          NaN    NaN  \n",
              "\n",
              "[5 rows x 80 columns]"
            ],
            "text/html": [
              "\n",
              "  <div id=\"df-0bd0621e-9e44-4980-9e08-2046185c3a75\" class=\"colab-df-container\">\n",
              "    <div>\n",
              "<style scoped>\n",
              "    .dataframe tbody tr th:only-of-type {\n",
              "        vertical-align: middle;\n",
              "    }\n",
              "\n",
              "    .dataframe tbody tr th {\n",
              "        vertical-align: top;\n",
              "    }\n",
              "\n",
              "    .dataframe thead th {\n",
              "        text-align: right;\n",
              "    }\n",
              "</style>\n",
              "<table border=\"1\" class=\"dataframe\">\n",
              "  <thead>\n",
              "    <tr style=\"text-align: right;\">\n",
              "      <th></th>\n",
              "      <th>Last name</th>\n",
              "      <th>Name</th>\n",
              "      <th>Last &amp; first names</th>\n",
              "      <th>BirthDate</th>\n",
              "      <th>Gender</th>\n",
              "      <th>Weight</th>\n",
              "      <th>Height</th>\n",
              "      <th>Foot</th>\n",
              "      <th>Pathology</th>\n",
              "      <th>Grade</th>\n",
              "      <th>...</th>\n",
              "      <th>BodySwayAP</th>\n",
              "      <th>BodySwayML</th>\n",
              "      <th>Norm. Step</th>\n",
              "      <th>Treadm. Speed</th>\n",
              "      <th>Treadm. Grade</th>\n",
              "      <th>Flight time%</th>\n",
              "      <th>Contact time%</th>\n",
              "      <th>RSI</th>\n",
              "      <th>Duty factor</th>\n",
              "      <th>Notes</th>\n",
              "    </tr>\n",
              "  </thead>\n",
              "  <tbody>\n",
              "    <tr>\n",
              "      <th>0</th>\n",
              "      <td>4</td>\n",
              "      <td>KSJ</td>\n",
              "      <td>004 KSJ</td>\n",
              "      <td>NaN</td>\n",
              "      <td></td>\n",
              "      <td>NaN</td>\n",
              "      <td>NaN</td>\n",
              "      <td>NaN</td>\n",
              "      <td>NaN</td>\n",
              "      <td>NaN</td>\n",
              "      <td>...</td>\n",
              "      <td>NaN</td>\n",
              "      <td>NaN</td>\n",
              "      <td>NaN</td>\n",
              "      <td>NaN</td>\n",
              "      <td>NaN</td>\n",
              "      <td>NaN</td>\n",
              "      <td>NaN</td>\n",
              "      <td>NaN</td>\n",
              "      <td>NaN</td>\n",
              "      <td>NaN</td>\n",
              "    </tr>\n",
              "    <tr>\n",
              "      <th>1</th>\n",
              "      <td>4</td>\n",
              "      <td>KSJ</td>\n",
              "      <td>004 KSJ</td>\n",
              "      <td>NaN</td>\n",
              "      <td></td>\n",
              "      <td>NaN</td>\n",
              "      <td>NaN</td>\n",
              "      <td>NaN</td>\n",
              "      <td>NaN</td>\n",
              "      <td>NaN</td>\n",
              "      <td>...</td>\n",
              "      <td>NaN</td>\n",
              "      <td>NaN</td>\n",
              "      <td>NaN</td>\n",
              "      <td>NaN</td>\n",
              "      <td>NaN</td>\n",
              "      <td>NaN</td>\n",
              "      <td>67.6</td>\n",
              "      <td>NaN</td>\n",
              "      <td>NaN</td>\n",
              "      <td>NaN</td>\n",
              "    </tr>\n",
              "    <tr>\n",
              "      <th>2</th>\n",
              "      <td>4</td>\n",
              "      <td>KSJ</td>\n",
              "      <td>004 KSJ</td>\n",
              "      <td>NaN</td>\n",
              "      <td></td>\n",
              "      <td>NaN</td>\n",
              "      <td>NaN</td>\n",
              "      <td>NaN</td>\n",
              "      <td>NaN</td>\n",
              "      <td>NaN</td>\n",
              "      <td>...</td>\n",
              "      <td>NaN</td>\n",
              "      <td>NaN</td>\n",
              "      <td>NaN</td>\n",
              "      <td>NaN</td>\n",
              "      <td>NaN</td>\n",
              "      <td>NaN</td>\n",
              "      <td>63.2</td>\n",
              "      <td>NaN</td>\n",
              "      <td>NaN</td>\n",
              "      <td>NaN</td>\n",
              "    </tr>\n",
              "    <tr>\n",
              "      <th>3</th>\n",
              "      <td>4</td>\n",
              "      <td>KSJ</td>\n",
              "      <td>004 KSJ</td>\n",
              "      <td>NaN</td>\n",
              "      <td></td>\n",
              "      <td>NaN</td>\n",
              "      <td>NaN</td>\n",
              "      <td>NaN</td>\n",
              "      <td>NaN</td>\n",
              "      <td>NaN</td>\n",
              "      <td>...</td>\n",
              "      <td>NaN</td>\n",
              "      <td>NaN</td>\n",
              "      <td>NaN</td>\n",
              "      <td>NaN</td>\n",
              "      <td>NaN</td>\n",
              "      <td>NaN</td>\n",
              "      <td>63.2</td>\n",
              "      <td>NaN</td>\n",
              "      <td>NaN</td>\n",
              "      <td>NaN</td>\n",
              "    </tr>\n",
              "    <tr>\n",
              "      <th>4</th>\n",
              "      <td>4</td>\n",
              "      <td>KSJ</td>\n",
              "      <td>004 KSJ</td>\n",
              "      <td>NaN</td>\n",
              "      <td></td>\n",
              "      <td>NaN</td>\n",
              "      <td>NaN</td>\n",
              "      <td>NaN</td>\n",
              "      <td>NaN</td>\n",
              "      <td>NaN</td>\n",
              "      <td>...</td>\n",
              "      <td>NaN</td>\n",
              "      <td>NaN</td>\n",
              "      <td>NaN</td>\n",
              "      <td>NaN</td>\n",
              "      <td>NaN</td>\n",
              "      <td>NaN</td>\n",
              "      <td>60.2</td>\n",
              "      <td>NaN</td>\n",
              "      <td>NaN</td>\n",
              "      <td>NaN</td>\n",
              "    </tr>\n",
              "  </tbody>\n",
              "</table>\n",
              "<p>5 rows × 80 columns</p>\n",
              "</div>\n",
              "    <div class=\"colab-df-buttons\">\n",
              "\n",
              "  <div class=\"colab-df-container\">\n",
              "    <button class=\"colab-df-convert\" onclick=\"convertToInteractive('df-0bd0621e-9e44-4980-9e08-2046185c3a75')\"\n",
              "            title=\"Convert this dataframe to an interactive table.\"\n",
              "            style=\"display:none;\">\n",
              "\n",
              "  <svg xmlns=\"http://www.w3.org/2000/svg\" height=\"24px\" viewBox=\"0 -960 960 960\">\n",
              "    <path d=\"M120-120v-720h720v720H120Zm60-500h600v-160H180v160Zm220 220h160v-160H400v160Zm0 220h160v-160H400v160ZM180-400h160v-160H180v160Zm440 0h160v-160H620v160ZM180-180h160v-160H180v160Zm440 0h160v-160H620v160Z\"/>\n",
              "  </svg>\n",
              "    </button>\n",
              "\n",
              "  <style>\n",
              "    .colab-df-container {\n",
              "      display:flex;\n",
              "      gap: 12px;\n",
              "    }\n",
              "\n",
              "    .colab-df-convert {\n",
              "      background-color: #E8F0FE;\n",
              "      border: none;\n",
              "      border-radius: 50%;\n",
              "      cursor: pointer;\n",
              "      display: none;\n",
              "      fill: #1967D2;\n",
              "      height: 32px;\n",
              "      padding: 0 0 0 0;\n",
              "      width: 32px;\n",
              "    }\n",
              "\n",
              "    .colab-df-convert:hover {\n",
              "      background-color: #E2EBFA;\n",
              "      box-shadow: 0px 1px 2px rgba(60, 64, 67, 0.3), 0px 1px 3px 1px rgba(60, 64, 67, 0.15);\n",
              "      fill: #174EA6;\n",
              "    }\n",
              "\n",
              "    .colab-df-buttons div {\n",
              "      margin-bottom: 4px;\n",
              "    }\n",
              "\n",
              "    [theme=dark] .colab-df-convert {\n",
              "      background-color: #3B4455;\n",
              "      fill: #D2E3FC;\n",
              "    }\n",
              "\n",
              "    [theme=dark] .colab-df-convert:hover {\n",
              "      background-color: #434B5C;\n",
              "      box-shadow: 0px 1px 3px 1px rgba(0, 0, 0, 0.15);\n",
              "      filter: drop-shadow(0px 1px 2px rgba(0, 0, 0, 0.3));\n",
              "      fill: #FFFFFF;\n",
              "    }\n",
              "  </style>\n",
              "\n",
              "    <script>\n",
              "      const buttonEl =\n",
              "        document.querySelector('#df-0bd0621e-9e44-4980-9e08-2046185c3a75 button.colab-df-convert');\n",
              "      buttonEl.style.display =\n",
              "        google.colab.kernel.accessAllowed ? 'block' : 'none';\n",
              "\n",
              "      async function convertToInteractive(key) {\n",
              "        const element = document.querySelector('#df-0bd0621e-9e44-4980-9e08-2046185c3a75');\n",
              "        const dataTable =\n",
              "          await google.colab.kernel.invokeFunction('convertToInteractive',\n",
              "                                                    [key], {});\n",
              "        if (!dataTable) return;\n",
              "\n",
              "        const docLinkHtml = 'Like what you see? Visit the ' +\n",
              "          '<a target=\"_blank\" href=https://colab.research.google.com/notebooks/data_table.ipynb>data table notebook</a>'\n",
              "          + ' to learn more about interactive tables.';\n",
              "        element.innerHTML = '';\n",
              "        dataTable['output_type'] = 'display_data';\n",
              "        await google.colab.output.renderOutput(dataTable, element);\n",
              "        const docLink = document.createElement('div');\n",
              "        docLink.innerHTML = docLinkHtml;\n",
              "        element.appendChild(docLink);\n",
              "      }\n",
              "    </script>\n",
              "  </div>\n",
              "\n",
              "\n",
              "<div id=\"df-4c6b40c9-98df-41c3-92ae-d667053c210f\">\n",
              "  <button class=\"colab-df-quickchart\" onclick=\"quickchart('df-4c6b40c9-98df-41c3-92ae-d667053c210f')\"\n",
              "            title=\"Suggest charts\"\n",
              "            style=\"display:none;\">\n",
              "\n",
              "<svg xmlns=\"http://www.w3.org/2000/svg\" height=\"24px\"viewBox=\"0 0 24 24\"\n",
              "     width=\"24px\">\n",
              "    <g>\n",
              "        <path d=\"M19 3H5c-1.1 0-2 .9-2 2v14c0 1.1.9 2 2 2h14c1.1 0 2-.9 2-2V5c0-1.1-.9-2-2-2zM9 17H7v-7h2v7zm4 0h-2V7h2v10zm4 0h-2v-4h2v4z\"/>\n",
              "    </g>\n",
              "</svg>\n",
              "  </button>\n",
              "\n",
              "<style>\n",
              "  .colab-df-quickchart {\n",
              "      --bg-color: #E8F0FE;\n",
              "      --fill-color: #1967D2;\n",
              "      --hover-bg-color: #E2EBFA;\n",
              "      --hover-fill-color: #174EA6;\n",
              "      --disabled-fill-color: #AAA;\n",
              "      --disabled-bg-color: #DDD;\n",
              "  }\n",
              "\n",
              "  [theme=dark] .colab-df-quickchart {\n",
              "      --bg-color: #3B4455;\n",
              "      --fill-color: #D2E3FC;\n",
              "      --hover-bg-color: #434B5C;\n",
              "      --hover-fill-color: #FFFFFF;\n",
              "      --disabled-bg-color: #3B4455;\n",
              "      --disabled-fill-color: #666;\n",
              "  }\n",
              "\n",
              "  .colab-df-quickchart {\n",
              "    background-color: var(--bg-color);\n",
              "    border: none;\n",
              "    border-radius: 50%;\n",
              "    cursor: pointer;\n",
              "    display: none;\n",
              "    fill: var(--fill-color);\n",
              "    height: 32px;\n",
              "    padding: 0;\n",
              "    width: 32px;\n",
              "  }\n",
              "\n",
              "  .colab-df-quickchart:hover {\n",
              "    background-color: var(--hover-bg-color);\n",
              "    box-shadow: 0 1px 2px rgba(60, 64, 67, 0.3), 0 1px 3px 1px rgba(60, 64, 67, 0.15);\n",
              "    fill: var(--button-hover-fill-color);\n",
              "  }\n",
              "\n",
              "  .colab-df-quickchart-complete:disabled,\n",
              "  .colab-df-quickchart-complete:disabled:hover {\n",
              "    background-color: var(--disabled-bg-color);\n",
              "    fill: var(--disabled-fill-color);\n",
              "    box-shadow: none;\n",
              "  }\n",
              "\n",
              "  .colab-df-spinner {\n",
              "    border: 2px solid var(--fill-color);\n",
              "    border-color: transparent;\n",
              "    border-bottom-color: var(--fill-color);\n",
              "    animation:\n",
              "      spin 1s steps(1) infinite;\n",
              "  }\n",
              "\n",
              "  @keyframes spin {\n",
              "    0% {\n",
              "      border-color: transparent;\n",
              "      border-bottom-color: var(--fill-color);\n",
              "      border-left-color: var(--fill-color);\n",
              "    }\n",
              "    20% {\n",
              "      border-color: transparent;\n",
              "      border-left-color: var(--fill-color);\n",
              "      border-top-color: var(--fill-color);\n",
              "    }\n",
              "    30% {\n",
              "      border-color: transparent;\n",
              "      border-left-color: var(--fill-color);\n",
              "      border-top-color: var(--fill-color);\n",
              "      border-right-color: var(--fill-color);\n",
              "    }\n",
              "    40% {\n",
              "      border-color: transparent;\n",
              "      border-right-color: var(--fill-color);\n",
              "      border-top-color: var(--fill-color);\n",
              "    }\n",
              "    60% {\n",
              "      border-color: transparent;\n",
              "      border-right-color: var(--fill-color);\n",
              "    }\n",
              "    80% {\n",
              "      border-color: transparent;\n",
              "      border-right-color: var(--fill-color);\n",
              "      border-bottom-color: var(--fill-color);\n",
              "    }\n",
              "    90% {\n",
              "      border-color: transparent;\n",
              "      border-bottom-color: var(--fill-color);\n",
              "    }\n",
              "  }\n",
              "</style>\n",
              "\n",
              "  <script>\n",
              "    async function quickchart(key) {\n",
              "      const quickchartButtonEl =\n",
              "        document.querySelector('#' + key + ' button');\n",
              "      quickchartButtonEl.disabled = true;  // To prevent multiple clicks.\n",
              "      quickchartButtonEl.classList.add('colab-df-spinner');\n",
              "      try {\n",
              "        const charts = await google.colab.kernel.invokeFunction(\n",
              "            'suggestCharts', [key], {});\n",
              "      } catch (error) {\n",
              "        console.error('Error during call to suggestCharts:', error);\n",
              "      }\n",
              "      quickchartButtonEl.classList.remove('colab-df-spinner');\n",
              "      quickchartButtonEl.classList.add('colab-df-quickchart-complete');\n",
              "    }\n",
              "    (() => {\n",
              "      let quickchartButtonEl =\n",
              "        document.querySelector('#df-4c6b40c9-98df-41c3-92ae-d667053c210f button');\n",
              "      quickchartButtonEl.style.display =\n",
              "        google.colab.kernel.accessAllowed ? 'block' : 'none';\n",
              "    })();\n",
              "  </script>\n",
              "</div>\n",
              "\n",
              "    </div>\n",
              "  </div>\n"
            ],
            "application/vnd.google.colaboratory.intrinsic+json": {
              "type": "dataframe",
              "variable_name": "data"
            }
          },
          "metadata": {},
          "execution_count": 6
        }
      ]
    },
    {
      "cell_type": "code",
      "source": [
        "print(data['L/R'])  # 제목이 L/R인 행 테스트 출력"
      ],
      "metadata": {
        "colab": {
          "base_uri": "https://localhost:8080/"
        },
        "id": "tJtIcP3sAMWg",
        "outputId": "7141b26e-f228-41e2-e568-e4469243e216"
      },
      "execution_count": 8,
      "outputs": [
        {
          "output_type": "stream",
          "name": "stdout",
          "text": [
            "0      START\n",
            "1          L\n",
            "2          R\n",
            "3          L\n",
            "4          R\n",
            "       ...  \n",
            "104        R\n",
            "105        L\n",
            "106        R\n",
            "107        L\n",
            "108      NaN\n",
            "Name: L/R, Length: 109, dtype: object\n"
          ]
        }
      ]
    },
    {
      "cell_type": "code",
      "source": [
        "l_step_time = data[data['L/R'] == 'L']['Step time']  # 왼발 step time dataframe\n",
        "l_step_time.head()  # 왼발 step time 테스트 5개 출력"
      ],
      "metadata": {
        "colab": {
          "base_uri": "https://localhost:8080/"
        },
        "id": "aKVaT2X-Azkl",
        "outputId": "7d00b48c-85c6-45b9-e82e-402efb3975be"
      },
      "execution_count": 18,
      "outputs": [
        {
          "output_type": "execute_result",
          "data": {
            "text/plain": [
              "1    0.593\n",
              "3    0.499\n",
              "5    0.577\n",
              "7    0.537\n",
              "9    0.542\n",
              "Name: Step time, dtype: float64"
            ]
          },
          "metadata": {},
          "execution_count": 18
        }
      ]
    },
    {
      "cell_type": "code",
      "source": [
        "l_step_time_mean = l_step_time.mean()  # 평균 저장\n",
        "print('왼발 StepTime 평균:', l_step_time_mean)  # 출력"
      ],
      "metadata": {
        "colab": {
          "base_uri": "https://localhost:8080/"
        },
        "id": "7nrO64nXGBDM",
        "outputId": "a60d20e9-ed15-46cb-deec-9013559a8aae"
      },
      "execution_count": 20,
      "outputs": [
        {
          "output_type": "stream",
          "name": "stdout",
          "text": [
            "왼발 StepTime 평균: 0.5785185185185185\n"
          ]
        }
      ]
    },
    {
      "cell_type": "code",
      "source": [
        "# 출력 자동화 함수 작성\n",
        "def get_mean_by_foot(foot_dir: str, target_column: str):\n",
        "    if foot_dir == 'L' or foot_dir == 'R':  # param 유효성 검사\n",
        "        return data[data['L/R'] == foot_dir][target_column].mean()\n",
        "    else: print('입력이 잘못되었습니다.')  # error alert"
      ],
      "metadata": {
        "id": "bto_llhkGevz"
      },
      "execution_count": 21,
      "outputs": []
    },
    {
      "cell_type": "code",
      "source": [
        "print(get_mean_by_foot('L', 'Step time'))  # 함수 테스트 (정상)"
      ],
      "metadata": {
        "colab": {
          "base_uri": "https://localhost:8080/"
        },
        "id": "qHlHZDteIFCC",
        "outputId": "5bb81fa5-6bd9-4eea-b646-27661af7cd45"
      },
      "execution_count": 23,
      "outputs": [
        {
          "output_type": "stream",
          "name": "stdout",
          "text": [
            "0.5785185185185185\n"
          ]
        }
      ]
    },
    {
      "cell_type": "code",
      "source": [
        "# 목표 행 Title 저장\n",
        "column_to_check = [\n",
        "    'Step time',\n",
        "    'Stride Time\\Cycle',\n",
        "    'Single support',\n",
        "    'Single support%',\n",
        "    'Total double support',\n",
        "    'Total double support%',\n",
        "    'Stance phase',\n",
        "    'Stance phase%',\n",
        "    'Swing phase%',\n",
        "    'Load response',\n",
        "    'Load response%',\n",
        "    'Pre-Swing',\n",
        "    'Pre-Swing%',\n",
        "]\n",
        "print(len(column_to_check))  # 목표 행 개수 출력"
      ],
      "metadata": {
        "colab": {
          "base_uri": "https://localhost:8080/"
        },
        "id": "NpRoz1RrIR2J",
        "outputId": "d97cbccb-2802-4a13-8770-d3ee612208d3"
      },
      "execution_count": 26,
      "outputs": [
        {
          "output_type": "stream",
          "name": "stdout",
          "text": [
            "13\n"
          ]
        }
      ]
    },
    {
      "cell_type": "code",
      "source": [
        "# 목표 행 순회하며 검사\n",
        "for target_title in column_to_check:\n",
        "    print(f'왼발 { target_title } 평균(mean): { get_mean_by_foot(\"L\", target_title) }')\n",
        "    print(f'오른발 { target_title } 평균(mean): { get_mean_by_foot(\"R\", target_title) }')\n",
        "    print()  # 한줄 띄움"
      ],
      "metadata": {
        "colab": {
          "base_uri": "https://localhost:8080/"
        },
        "id": "3NGEYgLzJmZU",
        "outputId": "ffecee38-aae5-49a4-c4be-4ad4e98b3e01"
      },
      "execution_count": 29,
      "outputs": [
        {
          "output_type": "stream",
          "name": "stdout",
          "text": [
            "왼발 Step time 평균(mean): 0.5785185185185185\n",
            "오른발 Step time 평균(mean): 0.5689811320754716\n",
            "\n",
            "왼발 Stride Time\\Cycle 평균(mean): 1.1472264150943396\n",
            "오른발 Stride Time\\Cycle 평균(mean): 1.1467692307692308\n",
            "\n",
            "왼발 Single support 평균(mean): 0.39015384615384624\n",
            "오른발 Single support 평균(mean): 0.40242307692307705\n",
            "\n",
            "왼발 Single support% 평균(mean): 34.02884615384615\n",
            "오른발 Single support% 평균(mean): 35.07692307692307\n",
            "\n",
            "왼발 Total double support 평균(mean): 0.3551923076923077\n",
            "오른발 Total double support 평균(mean): 0.3541923076923077\n",
            "\n",
            "왼발 Total double support% 평균(mean): 30.93846153846153\n",
            "오른발 Total double support% 평균(mean): 30.905769230769234\n",
            "\n",
            "왼발 Stance phase 평균(mean): 0.7455849056603773\n",
            "오른발 Stance phase 평균(mean): 0.7566153846153845\n",
            "\n",
            "왼발 Stance phase% 평균(mean): 65.01132075471699\n",
            "오른발 Stance phase% 평균(mean): 65.97307692307692\n",
            "\n",
            "왼발 Swing phase% 평균(mean): 34.988679245283016\n",
            "오른발 Swing phase% 평균(mean): 34.026923076923076\n",
            "\n",
            "왼발 Load response 평균(mean): 0.17780769230769228\n",
            "오른발 Load response 평균(mean): 0.17638461538461536\n",
            "\n",
            "왼발 Load response% 평균(mean): 15.476923076923075\n",
            "오른발 Load response% 평균(mean): 15.38076923076923\n",
            "\n",
            "왼발 Pre-Swing 평균(mean): 0.17660377358490564\n",
            "오른발 Pre-Swing 평균(mean): 0.1778076923076923\n",
            "\n",
            "왼발 Pre-Swing% 평균(mean): 15.459615384615386\n",
            "오른발 Pre-Swing% 평균(mean): 15.526923076923076\n",
            "\n"
          ]
        }
      ]
    }
  ]
}